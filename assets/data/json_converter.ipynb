{
 "cells": [
  {
   "cell_type": "code",
   "execution_count": 1,
   "metadata": {
    "collapsed": true
   },
   "outputs": [],
   "source": [
    "import json\n",
    "import numpy as np"
   ]
  },
  {
   "cell_type": "code",
   "execution_count": 7,
   "metadata": {
    "collapsed": false
   },
   "outputs": [],
   "source": [
    "# full = json.load(open(\"./hashtag_network.json\", \"r\"))\n",
    "full = json.load(open(\"./handle_network.json\", \"r\"))"
   ]
  },
  {
   "cell_type": "code",
   "execution_count": 8,
   "metadata": {
    "collapsed": false
   },
   "outputs": [],
   "source": [
    "new_edges, new_nodes = (full['edges'], full['nodes'])"
   ]
  },
  {
   "cell_type": "code",
   "execution_count": 9,
   "metadata": {
    "collapsed": false
   },
   "outputs": [
    {
     "data": {
      "text/plain": [
       "(106211, 72296)"
      ]
     },
     "execution_count": 9,
     "metadata": {},
     "output_type": "execute_result"
    }
   ],
   "source": [
    "len(new_edges),len(new_nodes)"
   ]
  },
  {
   "cell_type": "code",
   "execution_count": 10,
   "metadata": {
    "collapsed": false,
    "scrolled": true
   },
   "outputs": [
    {
     "name": "stdout",
     "output_type": "stream",
     "text": [
      "57\n"
     ]
    }
   ],
   "source": [
    "label2nodeid = {}\n",
    "node_thresh = 500\n",
    "nodes2remove = []\n",
    "for i, node in enumerate(new_nodes):\n",
    "    new_nodes[i]['id'] = i\n",
    "    if new_nodes[i]['size']<node_thresh:\n",
    "        nodes2remove.append(i)\n",
    "        continue\n",
    "    label2nodeid.update({node['label']:i})\n",
    "    new_nodes[i]['size'] = max(int(np.log(int(node['size']))),1)\n",
    "    new_nodes[i].pop(\"x\",None)\n",
    "    new_nodes[i].pop(\"y\",None)\n",
    "    \n",
    "        \n",
    "for i in sorted(nodes2remove)[::-1]:\n",
    "    new_nodes.pop(i)\n",
    "print(len(new_nodes))"
   ]
  },
  {
   "cell_type": "code",
   "execution_count": 11,
   "metadata": {
    "collapsed": false
   },
   "outputs": [
    {
     "name": "stdout",
     "output_type": "stream",
     "text": [
      "197\n"
     ]
    }
   ],
   "source": [
    "edges2remove = []\n",
    "edge_thresh = 10\n",
    "for i, edge in enumerate(new_edges):\n",
    "    new_edges[i]['id'] = i\n",
    "    try:\n",
    "        new_edges[i]['source'] = label2nodeid[edge['source']]\n",
    "        new_edges[i]['target'] = label2nodeid[edge['target']]\n",
    "        if new_edges[i]['size']<edge_thresh:\n",
    "            edges2remove.append(i)\n",
    "        new_edges[i]['size'] = max(int(edge['size']),1)\n",
    "#         new_edges[i]['size'] = max(int(np.log(int(edge['size']))),1)\n",
    "        new_edges[i]['attributes'] = \"{Weight:\"+str(new_edges[i]['size'])+'}'\n",
    "    except KeyError:\n",
    "        edges2remove.append(i)\n",
    "        \n",
    "for i in sorted(edges2remove)[::-1]:\n",
    "    new_edges.pop(i)\n",
    "print(len(new_edges))"
   ]
  },
  {
   "cell_type": "code",
   "execution_count": 12,
   "metadata": {
    "collapsed": false,
    "scrolled": false
   },
   "outputs": [
    {
     "data": {
      "text/plain": [
       "197"
      ]
     },
     "execution_count": 12,
     "metadata": {},
     "output_type": "execute_result"
    }
   ],
   "source": [
    "len(new_edges)"
   ]
  },
  {
   "cell_type": "code",
   "execution_count": 13,
   "metadata": {
    "collapsed": false
   },
   "outputs": [
    {
     "data": {
      "text/plain": [
       "197"
      ]
     },
     "execution_count": 13,
     "metadata": {},
     "output_type": "execute_result"
    }
   ],
   "source": [
    "len(full['edges'])"
   ]
  },
  {
   "cell_type": "code",
   "execution_count": 14,
   "metadata": {
    "collapsed": false
   },
   "outputs": [],
   "source": [
    "new_full = {\n",
    "    'nodes':new_nodes,\n",
    "    'edges':new_edges\n",
    "}"
   ]
  },
  {
   "cell_type": "code",
   "execution_count": 15,
   "metadata": {
    "collapsed": false
   },
   "outputs": [],
   "source": [
    "json.dump(new_full, open('./handle_network_cleaned.json',\"w\"))"
   ]
  },
  {
   "cell_type": "code",
   "execution_count": null,
   "metadata": {
    "collapsed": true
   },
   "outputs": [],
   "source": []
  }
 ],
 "metadata": {
  "kernelspec": {
   "display_name": "Python 3",
   "language": "python",
   "name": "python3"
  },
  "language_info": {
   "codemirror_mode": {
    "name": "ipython",
    "version": 3
   },
   "file_extension": ".py",
   "mimetype": "text/x-python",
   "name": "python",
   "nbconvert_exporter": "python",
   "pygments_lexer": "ipython3",
   "version": "3.5.2"
  }
 },
 "nbformat": 4,
 "nbformat_minor": 2
}
